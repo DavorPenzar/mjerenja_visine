{
 "cells": [
  {
   "cell_type": "markdown",
   "metadata": {},
   "source": [
    "# Prikaz mjerenja visine\n"
   ]
  },
  {
   "cell_type": "code",
   "execution_count": 1,
   "metadata": {},
   "outputs": [],
   "source": [
    "# Pripremi Python okruzenje.\n",
    "\n",
    "# IPython\n",
    "from IPython import *\n",
    "from IPython.display import *\n",
    "\n",
    "# SciPy paketi\n",
    "import numpy as np\n",
    "import matplotlib.pyplot as plt\n",
    "\n",
    "# Postavi stil grafova na `ggplot'.\n",
    "plt.style.use('ggplot')\n"
   ]
  },
  {
   "cell_type": "markdown",
   "metadata": {},
   "source": [
    "## Unos rezultata mjerenja\n"
   ]
  },
  {
   "cell_type": "markdown",
   "metadata": {},
   "source": [
    "Mjerenja visine spremit ćemo u objekt *NumPy* klase `array` tako da je svako mjerenje zadano uređenim parom $ \\left( t , h \\right) $ gdje je $ t $ datum mjerenja, a $ h $ rezultat mjerenja. Datume mjerenja izrazit ćemo *NumPy* klasom `datetime64`, a rezultat mjerenja realnim brojem (`numpy.dtype('float64')`) vrijednosti visine u $ \\mathrm{cm} $. Logično, mjerenja ćemo spremiti redoslijedom kojim su izvršena, to jest, od onog s najranijim datumom redom do onog s najkasnijim datumom.\n",
    "\n",
    "Stoga, unesimo rezultate mjerenja!\n"
   ]
  },
  {
   "cell_type": "code",
   "execution_count": 2,
   "metadata": {},
   "outputs": [],
   "source": [
    "# Spremi rezultate mjerenja s datumima mjerenja u objekt `mjerenja'.\n",
    "mjerenja = np.array(\n",
    "    [('2007-10-28', 145),\n",
    "     ('2008-03-28', 148.75),\n",
    "     ('2008-05-18', 151),\n",
    "     ('2008-09-01', 153.5),\n",
    "     ('2008-11-01', 155.5),\n",
    "     ('2009-05-01', 160),\n",
    "     ('2009-11-18', 163),\n",
    "     ('2010-10-12', 165.5),\n",
    "     ('2011-05-15', 169),\n",
    "     ('2012-06-04', 170),\n",
    "     ('2013-04-21', 170.5)],\n",
    "    dtype = [('datum', 'datetime64[D]'), ('visina', 'float64')]\n",
    ")\n"
   ]
  },
  {
   "cell_type": "markdown",
   "metadata": {},
   "source": [
    "Prije nego ih grafički prikažemo, provjerimo jesu li se mjerenja dobro spremila."
   ]
  },
  {
   "cell_type": "code",
   "execution_count": 3,
   "metadata": {},
   "outputs": [
    {
     "data": {
      "text/plain": [
       "array([('2007-10-28', 145.  ), ('2008-03-28', 148.75),\n",
       "       ('2008-05-18', 151.  ), ('2008-09-01', 153.5 ),\n",
       "       ('2008-11-01', 155.5 ), ('2009-05-01', 160.  ),\n",
       "       ('2009-11-18', 163.  ), ('2010-10-12', 165.5 ),\n",
       "       ('2011-05-15', 169.  ), ('2012-06-04', 170.  ),\n",
       "       ('2013-04-21', 170.5 )],\n",
       "      dtype=[('datum', '<M8[D]'), ('visina', '<f8')])"
      ]
     },
     "execution_count": 3,
     "metadata": {},
     "output_type": "execute_result"
    }
   ],
   "source": [
    "mjerenja\n"
   ]
  },
  {
   "cell_type": "code",
   "execution_count": 4,
   "metadata": {},
   "outputs": [
    {
     "data": {
      "text/plain": [
       "array(['2007-10-28', '2008-03-28', '2008-05-18', '2008-09-01',\n",
       "       '2008-11-01', '2009-05-01', '2009-11-18', '2010-10-12',\n",
       "       '2011-05-15', '2012-06-04', '2013-04-21'], dtype='datetime64[D]')"
      ]
     },
     "execution_count": 4,
     "metadata": {},
     "output_type": "execute_result"
    }
   ],
   "source": [
    "mjerenja['datum']\n"
   ]
  },
  {
   "cell_type": "code",
   "execution_count": 5,
   "metadata": {},
   "outputs": [
    {
     "data": {
      "text/plain": [
       "array([145.  , 148.75, 151.  , 153.5 , 155.5 , 160.  , 163.  , 165.5 ,\n",
       "       169.  , 170.  , 170.5 ])"
      ]
     },
     "execution_count": 5,
     "metadata": {},
     "output_type": "execute_result"
    }
   ],
   "source": [
    "mjerenja['visina']\n"
   ]
  },
  {
   "cell_type": "markdown",
   "metadata": {},
   "source": [
    "## Grafički prikaz rezultata mjerenja\n"
   ]
  },
  {
   "cell_type": "markdown",
   "metadata": {},
   "source": [
    "Sada kada smo sigurni da su se mjerenja dobro spremila, prikažimo ih grafički. Budući da smo za datume koristili *NumPy* klasu `datetime64`, možemo biti sigurni da će po $ x $-osi (na kojoj će biti prikazani datumi) točke biti adekvatno udaljene (da smo datume izrazili samo *stringom*, razmak bi između dva susjedna mjerenja bio konstantan, neovisno o stvarnom vremenskom pomaku između datuma tih mjerenja). Stvarna mjerenja jasno ćemo izraziti na grafu, ali ćemo susjedna mjerenja spajati ravnim linijama (linearni *spline*) kao aproksimaciju progresije visine kroz vrijeme između mjerenja.\n"
   ]
  },
  {
   "cell_type": "code",
   "execution_count": 6,
   "metadata": {},
   "outputs": [
    {
     "data": {
      "text/plain": [
       "[<matplotlib.lines.Line2D at 0x7f58df9ee898>]"
      ]
     },
     "execution_count": 6,
     "metadata": {},
     "output_type": "execute_result"
    },
    {
     "data": {
      "image/png": "[encoded data removed]",
      "text/plain": [
       "<Figure size 864x648 with 1 Axes>"
      ]
     },
     "metadata": {
      "needs_background": "light"
     },
     "output_type": "display_data"
    }
   ],
   "source": [
    "# Pripremi okruzenje za prikaz grafa.\n",
    "fig, ax = plt.subplots(nrows = 1, ncols = 1, figsize = (12, 9), num = 'Prikaz mjerenja visine')\n",
    "\n",
    "# Postavi tekst objasnjenja na graf.\n",
    "ax.set_title('Neka mjerenja visine Davora Penzara')\n",
    "ax.set_xlabel('Vrijeme (godina)')\n",
    "ax.set_ylabel('Visina (cm)')\n",
    "\n",
    "# Prikazi mjerenja na grafu.\n",
    "ax.plot(mjerenja['datum'], mjerenja['visina'], marker = 'o', linestyle = '-')\n"
   ]
  },
  {
   "cell_type": "markdown",
   "metadata": {},
   "source": [
    "Konačno, grafičke prikaze spremimo u vanjske datoteke radi mogućnosti distribuiranja. Možemo ih odmah spremiti u vektorskom obliku i rasterizirane na fiksnu rezoluciju.\n"
   ]
  },
  {
   "cell_type": "code",
   "execution_count": 7,
   "metadata": {},
   "outputs": [],
   "source": [
    "fig.savefig('prikaz_mjerenja.pdf') # vektorski PDF\n",
    "fig.savefig('prikaz_mjerenja.png') # rasterizirani PNG\n"
   ]
  }
 ],
 "metadata": {
  "kernelspec": {
   "display_name": "Python 3",
   "language": "python",
   "name": "python3"
  },
  "language_info": {
   "codemirror_mode": {
    "name": "ipython",
    "version": 3
   },
   "file_extension": ".py",
   "mimetype": "text/x-python",
   "name": "python",
   "nbconvert_exporter": "python",
   "pygments_lexer": "ipython3",
   "version": "3.7.1"
  }
 },
 "nbformat": 4,
 "nbformat_minor": 2
}
